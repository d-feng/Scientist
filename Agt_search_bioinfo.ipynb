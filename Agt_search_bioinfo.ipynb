{
 "cells": [
  {
   "cell_type": "code",
   "execution_count": null,
   "id": "77c85962-43b8-4959-bb96-d6a79000cf64",
   "metadata": {},
   "outputs": [],
   "source": [
    "from agents import Agent, Runner\n",
    "from IPython.display import display, Markdown\n",
    "import os\n",
    "\n",
    "\n",
    "\n",
    "os.environ['OPENAI_API_KEY']=API_KEY\n",
    "\n",
    "import nest_asyncio\n",
    "nest_asyncio.apply()\n",
    "\n",
    "\n",
    "prompts=\"\"\"Category-Specific Deep Search Prompts\n",
    "1. Preprocessing & Quality Control\n",
    "\"Find at least 10 tools for preprocessing and quality control of single-cell RNA-seq (scRNA-seq) data. Include tools for filtering low-quality cells, doublet detection, mitochondrial read filtering, and dataset quality assessment. Provide links to GitHub or official documentation.\"\n",
    "\n",
    "2. Normalization & Batch Correction\n",
    "\"List at least 10 bioinformatics tools for normalization and batch effect correction in single-cell RNA sequencing (scRNA-seq) data. Include methods like SCTransform, Harmony, and MNN. Provide links to documentation and GitHub repositories.\"\n",
    "\n",
    "3. Clustering & Dimensionality Reduction\n",
    "\"Search for at least 10 scRNA-seq tools specialized in clustering and dimensionality reduction. Include methods using PCA, t-SNE, UMAP, and graph-based clustering approaches. Provide official sources and GitHub repositories.\"\n",
    "\n",
    "4. Differential Expression Analysis\n",
    "\"Identify 10+ software packages for performing differential expression analysis in single-cell RNA sequencing (scRNA-seq). Compare statistical models used in each tool. Include links to their GitHub repositories or official documentation.\"\n",
    "\n",
    "5. Trajectory Inference & Pseudotime Analysis\n",
    "\"List at least 10 tools for trajectory inference and pseudotime analysis in single-cell RNA sequencing (scRNA-seq) datasets. Include methods such as Monocle, Slingshot, and SCORPIUS. Provide links to each tool’s documentation and GitHub.\"\n",
    "\n",
    "6. Gene Regulatory Networks & Cell-Cell Interactions\n",
    "\"Find at least 10 computational methods for constructing gene regulatory networks and inferring cell-cell communication from single-cell RNA sequencing (scRNA-seq) data. Include approaches like SCENIC, CellChat, and NicheNet. Provide documentation links.\"\n",
    "\n",
    "7. Visualization & Interpretation\n",
    "\"Gather at least 10 tools designed for visualization and exploration of single-cell RNA sequencing (scRNA-seq) datasets. Include interactive visualization software for gene expression, clustering, and trajectory analysis. Provide GitHub or official tool documentation.\"\"\"\n",
    "\n",
    "response = client.responses.create(\n",
    "    model=\"gpt-4o\",  # or another supported model\n",
    "    input=prompts,\n",
    "    tools=[\n",
    "        {\n",
    "            \"type\": \"web_search\"\n",
    "        }\n",
    "    ]\n",
    ")\n",
    "\n",
    "# import json\n",
    "# print(json.dumps(response.output, default=lambda o: o.__dict__, indent=2))\n",
    "# response.output is a list of ResponseOutputMessage objects\n",
    "\n",
    "# Extract all text from response content correctly\n",
    "output_texts = [content.text for message in response.output for content in message.content]\n",
    "\n",
    "# Combine into one string while maintaining the original format\n",
    "formatted_text = \"\\n\\n\".join(output_texts)\n",
    "\n",
    "# Display as formatted markdown in Jupyter Notebook\n",
    "display(Markdown(formatted_text))\n"
   ]
  },
  {
   "cell_type": "code",
   "execution_count": 41,
   "id": "e6a5846f-94ae-4911-9c3f-e06dd78d627b",
   "metadata": {},
   "outputs": [
    {
     "name": "stdout",
     "output_type": "stream",
     "text": [
      "Code calls itself back,  \n",
      "Infinite loops in the dark,  \n",
      "Logic finds its way.\n"
     ]
    }
   ],
   "source": [
    "agent = Agent(name=\"Assistant\", instructions=\"You are a helpful assistant\")\n",
    "result = Runner.run_sync(agent, \"Write a haiku about recursion in programming.\")\n",
    "print(result.final_output)"
   ]
  },
  {
   "cell_type": "code",
   "execution_count": null,
   "id": "61472a21-8232-4bda-aa44-b68466ac59ea",
   "metadata": {},
   "outputs": [],
   "source": []
  }
 ],
 "metadata": {
  "kernelspec": {
   "display_name": "venv1",
   "language": "python",
   "name": "venv1"
  },
  "language_info": {
   "codemirror_mode": {
    "name": "ipython",
    "version": 3
   },
   "file_extension": ".py",
   "mimetype": "text/x-python",
   "name": "python",
   "nbconvert_exporter": "python",
   "pygments_lexer": "ipython3",
   "version": "3.11.9"
  }
 },
 "nbformat": 4,
 "nbformat_minor": 5
}
